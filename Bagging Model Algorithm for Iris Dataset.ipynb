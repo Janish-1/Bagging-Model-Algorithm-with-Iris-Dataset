{
 "cells": [
  {
   "cell_type": "code",
   "execution_count": 1,
   "id": "effb7a8a",
   "metadata": {},
   "outputs": [],
   "source": [
    "# Bagging Classifier\n",
    "import pandas as pd\n",
    "import numpy as np\n",
    "from sklearn.ensemble import BaggingClassifier\n",
    "from sklearn.tree import DecisionTreeClassifier\n",
    "from sklearn.svm import SVC\n",
    "from sklearn.linear_model import LogisticRegression\n",
    "from sklearn.datasets import load_iris,load_diabetes\n",
    "from sklearn.model_selection import train_test_split"
   ]
  },
  {
   "cell_type": "code",
   "execution_count": 2,
   "id": "94a8f82b",
   "metadata": {},
   "outputs": [],
   "source": [
    "# Loading the dataset\n",
    "df = pd.read_csv(\"iris.csv\")"
   ]
  },
  {
   "cell_type": "code",
   "execution_count": 3,
   "id": "d266ea84",
   "metadata": {},
   "outputs": [
    {
     "name": "stdout",
     "output_type": "stream",
     "text": [
      "<class 'pandas.core.frame.DataFrame'>\n",
      "RangeIndex: 150 entries, 0 to 149\n",
      "Data columns (total 5 columns):\n",
      " #   Column        Non-Null Count  Dtype  \n",
      "---  ------        --------------  -----  \n",
      " 0   sepal.length  150 non-null    float64\n",
      " 1   sepal.width   150 non-null    float64\n",
      " 2   petal.length  150 non-null    float64\n",
      " 3   petal.width   150 non-null    float64\n",
      " 4   variety       150 non-null    object \n",
      "dtypes: float64(4), object(1)\n",
      "memory usage: 6.0+ KB\n"
     ]
    }
   ],
   "source": [
    "df.info() # Info about the columns of the dataset"
   ]
  },
  {
   "cell_type": "code",
   "execution_count": 4,
   "id": "16712e3b",
   "metadata": {},
   "outputs": [],
   "source": [
    "x = df.iloc[:,0:-1] # Selecting the first 4 columns and storing it in x\n",
    "y = df.iloc[:,-1] # Selcting the Last column and storing it in y"
   ]
  },
  {
   "cell_type": "code",
   "execution_count": 5,
   "id": "da960f2e",
   "metadata": {},
   "outputs": [],
   "source": [
    "# Splitting the data\n",
    "X_train,X_test,y_train,y_test = train_test_split(x,y,test_size = 0.2,random_state = 5) # Spltting the training data and testing data"
   ]
  },
  {
   "cell_type": "markdown",
   "id": "861ac1a4",
   "metadata": {},
   "source": [
    "## Applying the Models"
   ]
  },
  {
   "cell_type": "code",
   "execution_count": 6,
   "id": "1101feb1",
   "metadata": {},
   "outputs": [],
   "source": [
    "model1 = BaggingClassifier(DecisionTreeClassifier()) # Adding a Classifier to the variable\n",
    "model1.fit(X_train,y_train) # Training the Model\n",
    "x = model1.score(X_test,y_test) # Testing its Accuracy"
   ]
  },
  {
   "cell_type": "code",
   "execution_count": 7,
   "id": "cf927c08",
   "metadata": {},
   "outputs": [
    {
     "name": "stdout",
     "output_type": "stream",
     "text": [
      "Bagging Classifier with Decision Tree Classifier Accuracy:  93.33333333333333 %\n"
     ]
    }
   ],
   "source": [
    "print(\"Bagging Classifier with Decision Tree Classifier Accuracy: \",(x*100),\"%\")"
   ]
  },
  {
   "cell_type": "code",
   "execution_count": 8,
   "id": "91860b9c",
   "metadata": {},
   "outputs": [],
   "source": [
    "model2 = BaggingClassifier(SVC())\n",
    "model2.fit(X_train,y_train)\n",
    "x = model2.score(X_test,y_test)"
   ]
  },
  {
   "cell_type": "code",
   "execution_count": 9,
   "id": "bd15d7f5",
   "metadata": {},
   "outputs": [
    {
     "name": "stdout",
     "output_type": "stream",
     "text": [
      "Bagging Classifier with SVC Accuracy:  96.66666666666667 %\n"
     ]
    }
   ],
   "source": [
    "print(\"Bagging Classifier with SVC Accuracy: \",(x*100),\"%\")"
   ]
  },
  {
   "cell_type": "code",
   "execution_count": 10,
   "id": "9d859027",
   "metadata": {},
   "outputs": [],
   "source": [
    "model3 = SVC()\n",
    "model3.fit(X_train,y_train)\n",
    "x = model3.score(X_test,y_test)"
   ]
  },
  {
   "cell_type": "code",
   "execution_count": 11,
   "id": "a1278635",
   "metadata": {},
   "outputs": [
    {
     "name": "stdout",
     "output_type": "stream",
     "text": [
      "Only SVC Accuracy:  96.66666666666667 %\n"
     ]
    }
   ],
   "source": [
    "print(\"Only SVC Accuracy: \",(x*100),\"%\")"
   ]
  },
  {
   "cell_type": "code",
   "execution_count": 12,
   "id": "42d2a749",
   "metadata": {},
   "outputs": [
    {
     "name": "stderr",
     "output_type": "stream",
     "text": [
      "D:\\Anaconda\\lib\\site-packages\\sklearn\\linear_model\\_logistic.py:814: ConvergenceWarning: lbfgs failed to converge (status=1):\n",
      "STOP: TOTAL NO. of ITERATIONS REACHED LIMIT.\n",
      "\n",
      "Increase the number of iterations (max_iter) or scale the data as shown in:\n",
      "    https://scikit-learn.org/stable/modules/preprocessing.html\n",
      "Please also refer to the documentation for alternative solver options:\n",
      "    https://scikit-learn.org/stable/modules/linear_model.html#logistic-regression\n",
      "  n_iter_i = _check_optimize_result(\n",
      "D:\\Anaconda\\lib\\site-packages\\sklearn\\linear_model\\_logistic.py:814: ConvergenceWarning: lbfgs failed to converge (status=1):\n",
      "STOP: TOTAL NO. of ITERATIONS REACHED LIMIT.\n",
      "\n",
      "Increase the number of iterations (max_iter) or scale the data as shown in:\n",
      "    https://scikit-learn.org/stable/modules/preprocessing.html\n",
      "Please also refer to the documentation for alternative solver options:\n",
      "    https://scikit-learn.org/stable/modules/linear_model.html#logistic-regression\n",
      "  n_iter_i = _check_optimize_result(\n",
      "D:\\Anaconda\\lib\\site-packages\\sklearn\\linear_model\\_logistic.py:814: ConvergenceWarning: lbfgs failed to converge (status=1):\n",
      "STOP: TOTAL NO. of ITERATIONS REACHED LIMIT.\n",
      "\n",
      "Increase the number of iterations (max_iter) or scale the data as shown in:\n",
      "    https://scikit-learn.org/stable/modules/preprocessing.html\n",
      "Please also refer to the documentation for alternative solver options:\n",
      "    https://scikit-learn.org/stable/modules/linear_model.html#logistic-regression\n",
      "  n_iter_i = _check_optimize_result(\n",
      "D:\\Anaconda\\lib\\site-packages\\sklearn\\linear_model\\_logistic.py:814: ConvergenceWarning: lbfgs failed to converge (status=1):\n",
      "STOP: TOTAL NO. of ITERATIONS REACHED LIMIT.\n",
      "\n",
      "Increase the number of iterations (max_iter) or scale the data as shown in:\n",
      "    https://scikit-learn.org/stable/modules/preprocessing.html\n",
      "Please also refer to the documentation for alternative solver options:\n",
      "    https://scikit-learn.org/stable/modules/linear_model.html#logistic-regression\n",
      "  n_iter_i = _check_optimize_result(\n",
      "D:\\Anaconda\\lib\\site-packages\\sklearn\\linear_model\\_logistic.py:814: ConvergenceWarning: lbfgs failed to converge (status=1):\n",
      "STOP: TOTAL NO. of ITERATIONS REACHED LIMIT.\n",
      "\n",
      "Increase the number of iterations (max_iter) or scale the data as shown in:\n",
      "    https://scikit-learn.org/stable/modules/preprocessing.html\n",
      "Please also refer to the documentation for alternative solver options:\n",
      "    https://scikit-learn.org/stable/modules/linear_model.html#logistic-regression\n",
      "  n_iter_i = _check_optimize_result(\n",
      "D:\\Anaconda\\lib\\site-packages\\sklearn\\linear_model\\_logistic.py:814: ConvergenceWarning: lbfgs failed to converge (status=1):\n",
      "STOP: TOTAL NO. of ITERATIONS REACHED LIMIT.\n",
      "\n",
      "Increase the number of iterations (max_iter) or scale the data as shown in:\n",
      "    https://scikit-learn.org/stable/modules/preprocessing.html\n",
      "Please also refer to the documentation for alternative solver options:\n",
      "    https://scikit-learn.org/stable/modules/linear_model.html#logistic-regression\n",
      "  n_iter_i = _check_optimize_result(\n"
     ]
    }
   ],
   "source": [
    "model4 = BaggingClassifier(LogisticRegression())\n",
    "model4.fit(X_train,y_train)\n",
    "x = model4.score(X_test,y_test)"
   ]
  },
  {
   "cell_type": "code",
   "execution_count": 13,
   "id": "6d39f3d4",
   "metadata": {},
   "outputs": [
    {
     "name": "stdout",
     "output_type": "stream",
     "text": [
      "Bagging Classifier with Logistic Regression Accuracy:  96.66666666666667 %\n"
     ]
    }
   ],
   "source": [
    "print(\"Bagging Classifier with Logistic Regression Accuracy: \",(x*100),\"%\")"
   ]
  },
  {
   "cell_type": "code",
   "execution_count": null,
   "id": "1e190819",
   "metadata": {},
   "outputs": [],
   "source": []
  }
 ],
 "metadata": {
  "kernelspec": {
   "display_name": "Python 3 (ipykernel)",
   "language": "python",
   "name": "python3"
  },
  "language_info": {
   "codemirror_mode": {
    "name": "ipython",
    "version": 3
   },
   "file_extension": ".py",
   "mimetype": "text/x-python",
   "name": "python",
   "nbconvert_exporter": "python",
   "pygments_lexer": "ipython3",
   "version": "3.9.7"
  }
 },
 "nbformat": 4,
 "nbformat_minor": 5
}
